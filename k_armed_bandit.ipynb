{
 "cells": [
  {
   "cell_type": "markdown",
   "metadata": {},
   "source": [
    "### The K-Armed Bandit\n",
    "\n",
    "The k-armed bandit problem is a simple reinforcement learning problem where the environment contains only a single state. The agent is presented with k different actions that it can take, and each action gives out a reward generated from some stationary probability distribution. The agent starts out not knowing which action is the best action, so it must first explore all of the possibilities to figure out the expected reward of each action.\n",
    "\n",
    "The real-life analogy of this problem is a gambler (bandit) that wants to maximize their money (reward) by playing the slot machines, but there are k slot machines, each with its own probabilistic payoff. The gambler must then figure out which slot machine is the most profitable."
   ]
  },
  {
   "cell_type": "code",
   "execution_count": 1,
   "metadata": {},
   "outputs": [],
   "source": [
    "# Setup\n",
    "\n",
    "%matplotlib inline\n",
    "\n",
    "import numpy as np\n",
    "import matplotlib.pyplot as plt\n",
    "import seaborn as sns\n",
    "from functools import partial\n",
    "\n",
    "def reset_seed(seed=42):\n",
    "    np.random.seed(seed)"
   ]
  },
  {
   "cell_type": "markdown",
   "metadata": {},
   "source": [
    "### The Environment\n",
    "\n",
    "There will be two kinds of environments: discrete and continuous. A discrete bandit environment just means that there are some finite number of payoffs, each with its own probability (total probability must add up to one). A continuous bandit environment generates payoffs based on some probability distribution."
   ]
  },
  {
   "cell_type": "code",
   "execution_count": 2,
   "metadata": {},
   "outputs": [],
   "source": [
    "class DiscreteBandit():\n",
    "    \"\"\"\n",
    "    A discrete bandit environment.\n",
    "    \n",
    "    Args:\n",
    "        payoffs: (ndarray of shape [n_arms, n_payoffs]) the payoffs for each action\n",
    "        probabilities: (ndarray of shape [n_arms, n_payoffs]) the probability for every payoff of every action\n",
    "    \"\"\"\n",
    "    def __init__(self, payoffs, probabilities):\n",
    "        self.payoffs = payoffs\n",
    "        self.probabilities = probabilities\n",
    "        \n",
    "    def step(self, x):\n",
    "        return np.random.choice(self.payoffs[x], p=self.probabilities[x])"
   ]
  },
  {
   "cell_type": "code",
   "execution_count": 3,
   "metadata": {
    "scrolled": true
   },
   "outputs": [
    {
     "name": "stdout",
     "output_type": "stream",
     "text": [
      "Total reward: -111\n"
     ]
    }
   ],
   "source": [
    "reset_seed(42)\n",
    "\n",
    "payoffs = np.array([[-1, 0, 1],\n",
    "                    [-2, 0, 5],\n",
    "                    [0, 4, 8],\n",
    "                    [-2, -1, 1]])\n",
    "\n",
    "probabilities = np.array([[0.45, 0.1, 0.45],\n",
    "                          [0.45, 0.1, 0.45],\n",
    "                          [0.98, 0.01, 0.01],\n",
    "                          [0.98, 0.01, 0.01]])\n",
    "\n",
    "env = DiscreteBandit(payoffs, probabilities)\n",
    "\n",
    "max_steps = 1000\n",
    "total_reward = 0\n",
    "\n",
    "for step in range(max_steps):\n",
    "    total_reward += env.step(np.random.choice(len(payoffs)))  # choose a random action\n",
    "    \n",
    "print(\"Total reward:\", total_reward)"
   ]
  },
  {
   "cell_type": "code",
   "execution_count": 4,
   "metadata": {},
   "outputs": [],
   "source": [
    "class ContinuousBandit():\n",
    "    \"\"\"\n",
    "    A continuous bandit environment.\n",
    "    \n",
    "    Args:\n",
    "        reward_distributions: (list of functions) a list of functions that generate random numbers from\n",
    "            some probability distribution\n",
    "    \"\"\"\n",
    "    def __init__(self, reward_distributions):\n",
    "        self.reward_distributions = reward_distributions\n",
    "        \n",
    "    def step(self, x):\n",
    "        return self.reward_distributions[x]()"
   ]
  },
  {
   "cell_type": "code",
   "execution_count": 5,
   "metadata": {},
   "outputs": [
    {
     "name": "stdout",
     "output_type": "stream",
     "text": [
      "Mean: -2.51 \t Sigma: 0.78\n",
      "Mean: 9.01 \t Sigma: 0.29\n",
      "Mean: 4.64 \t Sigma: 4.33\n",
      "Mean: 1.97 \t Sigma: 3.01\n",
      "Mean: -6.88 \t Sigma: 3.54\n",
      "Total reward: 848.69\n"
     ]
    }
   ],
   "source": [
    "reset_seed(42)\n",
    "\n",
    "mu = [np.random.uniform(-10, 10) for _ in range(5)]\n",
    "sigma = [np.random.uniform(0, 5) for _ in range(5)]\n",
    "reward_distributions = [partial(np.random.normal, m, s) for m, s in zip(mu, sigma)]\n",
    "\n",
    "for m, s in zip(mu, sigma):\n",
    "    print(\"Mean: %.2f \\t Sigma: %.2f\" % (m, s))\n",
    "\n",
    "env = ContinuousBandit(reward_distributions)\n",
    "\n",
    "max_steps = 1000\n",
    "total_reward = 0\n",
    "\n",
    "for step in range(max_steps):\n",
    "    total_reward += env.step(np.random.choice(len(reward_distributions)))  # choose a random action\n",
    "    \n",
    "print(\"Total reward: %.2f\" % total_reward)"
   ]
  },
  {
   "cell_type": "markdown",
   "metadata": {},
   "source": [
    "### The Greedy Policy\n",
    "\n",
    "Because we are interested in creating an artificial intelligence, our agent needs to do better than just taking a random action at each step. The agent needs to be able to make decisions based on something. In RL lingo, we call this decision-making ability a \"policy\". The simplest non-random policy is probably the greedy policy, where the agent chooses what it thinks as the optimal action at each given step."
   ]
  },
  {
   "cell_type": "code",
   "execution_count": 6,
   "metadata": {},
   "outputs": [
    {
     "name": "stdout",
     "output_type": "stream",
     "text": [
      "Total reward: 9008.13\n"
     ]
    }
   ],
   "source": [
    "reset_seed(42)\n",
    "\n",
    "n = 5\n",
    "\n",
    "mu = [np.random.uniform(-10, 10) for _ in range(n)]\n",
    "sigma = [np.random.uniform(0, 5) for _ in range(n)]\n",
    "reward_distributions = [partial(np.random.normal, m, s) for m, s in zip(mu, sigma)]\n",
    "\n",
    "# Store rewards obtained at each step. This acts as a \"memory\" and can be used to make decisions.\n",
    "rewards = [[] for _ in range(n)]\n",
    "total_rewards = [0 for _ in range(n)]\n",
    "n_tries = [0 for _ in range(n)]\n",
    "\n",
    "def expected_reward(a):\n",
    "    if n_tries[a] == 0:\n",
    "        return 0\n",
    "    else:\n",
    "        return total_rewards[a] / n_tries[a]\n",
    "    \n",
    "def greedy_policy():\n",
    "    return np.argmax([expected_reward(a) for a in range(n)])\n",
    "\n",
    "env = ContinuousBandit(reward_distributions)\n",
    "\n",
    "max_steps = 1000\n",
    "\n",
    "for step in range(max_steps):\n",
    "    a = greedy_policy()\n",
    "    reward = env.step(a)\n",
    "    rewards[a].append(reward)\n",
    "    total_rewards[a] += reward\n",
    "    n_tries[a] += 1\n",
    "    \n",
    "print(\"Total reward: %.2f\" % sum(total_rewards))"
   ]
  },
  {
   "cell_type": "markdown",
   "metadata": {},
   "source": [
    "### The Exploration-Exploitation Tradeoff\n",
    "\n",
    "The greedy policy has an obvious weakness, namely it is short-sighted. A typical reinforcement learning environment is uncertain, the agent almost always starts out not knowing which action is the best and what is the expected reward of each action. It faces the dilemma of choosing between what it thinks is the optimal action (exploitation), and choosing some other action in the hope of improving its knowledge so that it can make better decisions in the future (exploration). This is called the exploration-exploitation tradeoff.\n",
    "\n",
    "In the greedy example above, the agent performs no exploration at all, it always chooses what it thinks as the best action at each step. As a result, it stops looking when it finds an action that yields a positive reward (on average), and doesn't consider the possibility that there might be some other action that gives better rewards. One way to integrate exploration into the greedy policy is to perform each action some number of times to gather data before going greedy all the way until the end. Since there are 1000 time steps, one option is to perform each action 20 times for the first 100 time steps, then choose the best action for the other 900. But this approach seems arbitrary, and it doesn't guarantee convergence (there's a non-zero chance that 20 data points per action isn't enough to determine the true expected reward).\n",
    "\n",
    "One exploration policy that has been around since the dawn of RL is the epsilon-greedy policy. It works by setting some exploration coefficient, epsilon, that determines the probability of choosing a random action instead of taking the greedy action. So, if epsilon is set to 0.1, then at any given time step the agent has 10% probability of choosing a random action and 90% probability of choosing the greedy action. This policy guarantees convergence, each action will be taken an infinite number of times as time goes to infinity."
   ]
  },
  {
   "cell_type": "code",
   "execution_count": 7,
   "metadata": {},
   "outputs": [
    {
     "name": "stdout",
     "output_type": "stream",
     "text": [
      "Total reward: 8036.72\n"
     ]
    }
   ],
   "source": [
    "reset_seed(42)\n",
    "\n",
    "n = 5\n",
    "\n",
    "mu = [np.random.uniform(-10, 10) for _ in range(n)]\n",
    "sigma = [np.random.uniform(0, 5) for _ in range(n)]\n",
    "reward_distributions = [partial(np.random.normal, m, s) for m, s in zip(mu, sigma)]\n",
    "\n",
    "# Store rewards obtained at each step. This acts as a \"memory\" and can be used to make decisions.\n",
    "rewards = [[] for _ in range(n)]\n",
    "total_rewards = [0 for _ in range(n)]\n",
    "n_tries = [0 for _ in range(n)]\n",
    "\n",
    "def expected_reward(a):\n",
    "    if n_tries[a] == 0:\n",
    "        return 0\n",
    "    else:\n",
    "        return total_rewards[a] / n_tries[a]\n",
    "    \n",
    "def epsilon_greedy(epsilon):\n",
    "    if np.random.rand() < epsilon:\n",
    "        return np.random.randint(n)  # random action\n",
    "    else:\n",
    "        return np.argmax([expected_reward(a) for a in range(n)])  # greedy action\n",
    "\n",
    "env = ContinuousBandit(reward_distributions)\n",
    "\n",
    "max_steps = 1000\n",
    "epsilon = 0.1\n",
    "\n",
    "for step in range(max_steps):\n",
    "    a = epsilon_greedy(epsilon)\n",
    "    reward = env.step(a)\n",
    "    rewards[a].append(reward)\n",
    "    total_rewards[a] += reward\n",
    "    n_tries[a] += 1\n",
    "    \n",
    "print(\"Total reward: %.2f\" % sum(total_rewards))"
   ]
  },
  {
   "cell_type": "markdown",
   "metadata": {},
   "source": [
    "### Comparing Policies\n",
    "\n",
    "To see which policy works best for the k-armed bandit problem, we will instantiate agents with differing policies and test them on randomized k-armed bandit environments."
   ]
  },
  {
   "cell_type": "code",
   "execution_count": 28,
   "metadata": {},
   "outputs": [],
   "source": [
    "class EpsilonGreedyAgent():\n",
    "    \"\"\"\n",
    "    A class to represent an agent using epsilon-greedy policy.\n",
    "    \n",
    "    Args:\n",
    "        epsilon: (scalar) the epsilon constant\n",
    "        n_actions: (int) the number of possible actions\n",
    "    \"\"\"\n",
    "    def __init__(self, epsilon, n_actions):\n",
    "        self.epsilon = epsilon\n",
    "        self.n_actions = n_actions\n",
    "        self.reset_memory()\n",
    "        \n",
    "    def expected_reward(self, action):\n",
    "        if self.n_tries[action] == 0:\n",
    "            return 0\n",
    "        else:\n",
    "            return self.total_rewards[action] / self.n_tries[action]\n",
    "        \n",
    "    def epsilon_greedy(self):\n",
    "        if np.random.rand() < self.epsilon:\n",
    "            return np.random.randint(self.n_actions)\n",
    "        else:\n",
    "            return np.argmax([self.expected_reward(action) for action in range(self.n_actions)])\n",
    "        \n",
    "    def update_memory(self, action, reward):\n",
    "        self.rewards[action].append(reward)\n",
    "        self.total_rewards[action] += reward\n",
    "        self.n_tries[action] += 1\n",
    "        \n",
    "    def reset_memory(self):\n",
    "        self.rewards = [[] for _ in range(self.n_actions)]\n",
    "        self.total_rewards = [0 for _ in range(self.n_actions)]\n",
    "        self.n_tries = [0 for _ in range(self.n_actions)]"
   ]
  },
  {
   "cell_type": "code",
   "execution_count": 29,
   "metadata": {},
   "outputs": [
    {
     "data": {
      "text/plain": [
       "<matplotlib.legend.Legend at 0x7fd755614be0>"
      ]
     },
     "execution_count": 29,
     "metadata": {},
     "output_type": "execute_result"
    },
    {
     "data": {
      "image/png": "[encoded data removed]",
      "text/plain": [
       "<Figure size 432x288 with 1 Axes>"
      ]
     },
     "metadata": {
      "needs_background": "light"
     },
     "output_type": "display_data"
    }
   ],
   "source": [
    "# A comparison run\n",
    "\n",
    "reset_seed(42)\n",
    "\n",
    "n = 5\n",
    "\n",
    "mu = [np.random.uniform(-10, 10) for _ in range(n)]\n",
    "sigma = [np.random.uniform(0, 5) for _ in range(n)]\n",
    "reward_distributions = [partial(np.random.normal, m, s) for m, s in zip(mu, sigma)]\n",
    "\n",
    "env = ContinuousBandit(reward_distributions)\n",
    "\n",
    "agents = [EpsilonGreedyAgent(epsilon=0, n_actions=n),     # epsilon = 0, full greed\n",
    "          EpsilonGreedyAgent(epsilon=0.01, n_actions=n),  # epsilon = 0.01, mostly greedy\n",
    "          EpsilonGreedyAgent(epsilon=0.1, n_actions=n)    # epsilon = 0.1, somewhat greedy\n",
    "         ]\n",
    "\n",
    "average_rewards = [[] for _ in range(len(agents))]\n",
    "\n",
    "max_steps = 1000\n",
    "\n",
    "for step in range(max_steps):\n",
    "    for agent_index, agent in enumerate(agents):\n",
    "        action = agent.epsilon_greedy()\n",
    "        reward = env.step(action)\n",
    "        agent.update_memory(action, reward)\n",
    "        average_rewards[agent_index].append(sum(agent.total_rewards) / (step + 1))\n",
    "    \n",
    "plt.plot(np.arange(max_steps), average_rewards[0], 'g-', label=r\"$\\epsilon=0$\")\n",
    "plt.plot(np.arange(max_steps), average_rewards[1], 'r-', label=r\"$\\epsilon=0.01$\")\n",
    "plt.plot(np.arange(max_steps), average_rewards[2], 'b-', label=r\"$\\epsilon=0.1$\")\n",
    "plt.legend(loc=\"lower right\")"
   ]
  },
  {
   "cell_type": "code",
   "execution_count": 56,
   "metadata": {},
   "outputs": [
    {
     "name": "stdout",
     "output_type": "stream",
     "text": [
      "Run 100"
     ]
    },
    {
     "data": {
      "text/plain": [
       "[]"
      ]
     },
     "execution_count": 56,
     "metadata": {},
     "output_type": "execute_result"
    },
    {
     "data": {
      "image/png": "[encoded data removed]",
      "text/plain": [
       "<Figure size 864x576 with 2 Axes>"
      ]
     },
     "metadata": {
      "needs_background": "light"
     },
     "output_type": "display_data"
    }
   ],
   "source": [
    "# Multiple comparison runs\n",
    "\n",
    "reset_seed(42)\n",
    "\n",
    "n_runs = 100\n",
    "n_actions = 10\n",
    "max_steps = 10000\n",
    "\n",
    "agents = [EpsilonGreedyAgent(epsilon=0, n_actions=n_actions),     # epsilon = 0, full greed\n",
    "          EpsilonGreedyAgent(epsilon=0.01, n_actions=n_actions),  # epsilon = 0.01, mostly greedy\n",
    "          EpsilonGreedyAgent(epsilon=0.1, n_actions=n_actions)    # epsilon = 0.1, somewhat greedy\n",
    "         ]\n",
    "\n",
    "total_rewards = np.zeros(shape=(len(agents), max_steps))\n",
    "total_optimal_actions = np.zeros(shape=(len(agents), max_steps))\n",
    "\n",
    "for run in range(n_runs):\n",
    "    print(\"\\rRun {}\".format(run + 1), end=\"\")\n",
    "    \n",
    "    mu = [np.random.uniform(-10, 10) for _ in range(n_actions)]\n",
    "    sigma = [np.random.uniform(0, 5) for _ in range(n_actions)]\n",
    "    reward_distributions = [partial(np.random.normal, m, s) for m, s in zip(mu, sigma)]\n",
    "    optimal_action = np.argmax(mu)\n",
    "\n",
    "    env = ContinuousBandit(reward_distributions)\n",
    "    \n",
    "    for agent in agents:\n",
    "        agent.reset_memory()\n",
    "\n",
    "    for step in range(max_steps):\n",
    "        for agent_index, agent in enumerate(agents):\n",
    "            action = agent.epsilon_greedy()\n",
    "            reward = env.step(action)\n",
    "            agent.update_memory(action, reward)\n",
    "            total_rewards[agent_index, step] += reward\n",
    "            total_optimal_actions[agent_index, step] += (action == optimal_action)\n",
    "            \n",
    "for step in range(1, max_steps):\n",
    "    for agent_index, _ in enumerate(agents):\n",
    "        total_rewards[agent_index, step] += total_rewards[agent_index, step - 1]\n",
    "        total_optimal_actions[agent_index, step] += total_optimal_actions[agent_index, step - 1]\n",
    "            \n",
    "average_rewards = total_rewards / (np.arange(max_steps) + 1) / n_runs\n",
    "average_optimal_actions = total_optimal_actions / (np.arange(max_steps) + 1) / n_runs\n",
    "    \n",
    "plt.figure(figsize=(12, 8))\n",
    "plt.subplot(2, 1, 1)\n",
    "plt.plot(np.arange(max_steps), average_rewards[0], 'g-', label=r\"$\\epsilon=0$\")\n",
    "plt.plot(np.arange(max_steps), average_rewards[1], 'r-', label=r\"$\\epsilon=0.01$\")\n",
    "plt.plot(np.arange(max_steps), average_rewards[2], 'b-', label=r\"$\\epsilon=0.1$\")\n",
    "plt.legend(loc=\"lower right\")\n",
    "plt.ylabel(\"average reward\")\n",
    "\n",
    "plt.subplot(2, 1, 2)\n",
    "plt.plot(np.arange(max_steps), average_optimal_actions[0], 'g-', label=r\"$\\epsilon=0$\")\n",
    "plt.plot(np.arange(max_steps), average_optimal_actions[1], 'r-', label=r\"$\\epsilon=0.01$\")\n",
    "plt.plot(np.arange(max_steps), average_optimal_actions[2], 'b-', label=r\"$\\epsilon=0.1$\")\n",
    "plt.legend(loc=\"lower right\")\n",
    "plt.xlabel(\"t\")\n",
    "plt.ylabel(\"% optimal action\")\n",
    "\n",
    "plt.plot()"
   ]
  },
  {
   "cell_type": "markdown",
   "metadata": {},
   "source": [
    "#### Interpretation\n",
    "\n",
    "The greedy model (represented by the green curve) reached its peak quickly but then tapered off, meaning that it got stuck performing a suboptimal action. The epsilon-greedy policy with epsilon=0.1 (represented by the blue curve) found the optimal action earlier but only took it 91% of the time. The agent with epsilon=0.01 took some time finding the optimal action but would eventually perform better than the other two agents."
   ]
  },
  {
   "cell_type": "code",
   "execution_count": null,
   "metadata": {},
   "outputs": [],
   "source": []
  }
 ],
 "metadata": {
  "kernelspec": {
   "display_name": "Python 3",
   "language": "python",
   "name": "python3"
  },
  "language_info": {
   "codemirror_mode": {
    "name": "ipython",
    "version": 3
   },
   "file_extension": ".py",
   "mimetype": "text/x-python",
   "name": "python",
   "nbconvert_exporter": "python",
   "pygments_lexer": "ipython3",
   "version": "3.6.6"
  }
 },
 "nbformat": 4,
 "nbformat_minor": 2
}
